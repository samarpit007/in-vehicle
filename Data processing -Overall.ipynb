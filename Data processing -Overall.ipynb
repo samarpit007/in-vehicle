{
 "cells": [
  {
   "cell_type": "markdown",
   "id": "7d31d33c",
   "metadata": {},
   "source": [
    "# Importing Libraries"
   ]
  },
  {
   "cell_type": "code",
   "execution_count": 1,
   "id": "66b63ed8",
   "metadata": {},
   "outputs": [],
   "source": [
    "import pandas as pd\n",
    "import numpy as np"
   ]
  },
  {
   "cell_type": "code",
   "execution_count": 2,
   "id": "dd3a61f9",
   "metadata": {},
   "outputs": [],
   "source": [
    "from sklearn.preprocessing import OneHotEncoder, LabelEncoder"
   ]
  },
  {
   "cell_type": "markdown",
   "id": "2ffa32f1",
   "metadata": {},
   "source": [
    "# Importing DataSet And viewing dataset"
   ]
  },
  {
   "cell_type": "code",
   "execution_count": 3,
   "id": "ec9bb455",
   "metadata": {},
   "outputs": [
    {
     "data": {
      "text/html": [
       "<div>\n",
       "<style scoped>\n",
       "    .dataframe tbody tr th:only-of-type {\n",
       "        vertical-align: middle;\n",
       "    }\n",
       "\n",
       "    .dataframe tbody tr th {\n",
       "        vertical-align: top;\n",
       "    }\n",
       "\n",
       "    .dataframe thead th {\n",
       "        text-align: right;\n",
       "    }\n",
       "</style>\n",
       "<table border=\"1\" class=\"dataframe\">\n",
       "  <thead>\n",
       "    <tr style=\"text-align: right;\">\n",
       "      <th></th>\n",
       "      <th>destination</th>\n",
       "      <th>passanger</th>\n",
       "      <th>weather</th>\n",
       "      <th>temperature</th>\n",
       "      <th>time</th>\n",
       "      <th>coupon</th>\n",
       "      <th>expiration</th>\n",
       "      <th>gender</th>\n",
       "      <th>age</th>\n",
       "      <th>maritalStatus</th>\n",
       "      <th>...</th>\n",
       "      <th>CoffeeHouse</th>\n",
       "      <th>CarryAway</th>\n",
       "      <th>RestaurantLessThan20</th>\n",
       "      <th>Restaurant20To50</th>\n",
       "      <th>toCoupon_GEQ5min</th>\n",
       "      <th>toCoupon_GEQ15min</th>\n",
       "      <th>toCoupon_GEQ25min</th>\n",
       "      <th>direction_same</th>\n",
       "      <th>direction_opp</th>\n",
       "      <th>Y</th>\n",
       "    </tr>\n",
       "  </thead>\n",
       "  <tbody>\n",
       "    <tr>\n",
       "      <th>0</th>\n",
       "      <td>No Urgent Place</td>\n",
       "      <td>Alone</td>\n",
       "      <td>Sunny</td>\n",
       "      <td>55</td>\n",
       "      <td>2PM</td>\n",
       "      <td>Restaurant(&lt;20)</td>\n",
       "      <td>1d</td>\n",
       "      <td>Female</td>\n",
       "      <td>21</td>\n",
       "      <td>Unmarried partner</td>\n",
       "      <td>...</td>\n",
       "      <td>never</td>\n",
       "      <td>NaN</td>\n",
       "      <td>4~8</td>\n",
       "      <td>1~3</td>\n",
       "      <td>1</td>\n",
       "      <td>0</td>\n",
       "      <td>0</td>\n",
       "      <td>0</td>\n",
       "      <td>1</td>\n",
       "      <td>1</td>\n",
       "    </tr>\n",
       "    <tr>\n",
       "      <th>1</th>\n",
       "      <td>No Urgent Place</td>\n",
       "      <td>Friend(s)</td>\n",
       "      <td>Sunny</td>\n",
       "      <td>80</td>\n",
       "      <td>10AM</td>\n",
       "      <td>Coffee House</td>\n",
       "      <td>2h</td>\n",
       "      <td>Female</td>\n",
       "      <td>21</td>\n",
       "      <td>Unmarried partner</td>\n",
       "      <td>...</td>\n",
       "      <td>never</td>\n",
       "      <td>NaN</td>\n",
       "      <td>4~8</td>\n",
       "      <td>1~3</td>\n",
       "      <td>1</td>\n",
       "      <td>0</td>\n",
       "      <td>0</td>\n",
       "      <td>0</td>\n",
       "      <td>1</td>\n",
       "      <td>0</td>\n",
       "    </tr>\n",
       "    <tr>\n",
       "      <th>2</th>\n",
       "      <td>No Urgent Place</td>\n",
       "      <td>Friend(s)</td>\n",
       "      <td>Sunny</td>\n",
       "      <td>80</td>\n",
       "      <td>10AM</td>\n",
       "      <td>Carry out &amp; Take away</td>\n",
       "      <td>2h</td>\n",
       "      <td>Female</td>\n",
       "      <td>21</td>\n",
       "      <td>Unmarried partner</td>\n",
       "      <td>...</td>\n",
       "      <td>never</td>\n",
       "      <td>NaN</td>\n",
       "      <td>4~8</td>\n",
       "      <td>1~3</td>\n",
       "      <td>1</td>\n",
       "      <td>1</td>\n",
       "      <td>0</td>\n",
       "      <td>0</td>\n",
       "      <td>1</td>\n",
       "      <td>1</td>\n",
       "    </tr>\n",
       "    <tr>\n",
       "      <th>3</th>\n",
       "      <td>No Urgent Place</td>\n",
       "      <td>Friend(s)</td>\n",
       "      <td>Sunny</td>\n",
       "      <td>80</td>\n",
       "      <td>2PM</td>\n",
       "      <td>Coffee House</td>\n",
       "      <td>2h</td>\n",
       "      <td>Female</td>\n",
       "      <td>21</td>\n",
       "      <td>Unmarried partner</td>\n",
       "      <td>...</td>\n",
       "      <td>never</td>\n",
       "      <td>NaN</td>\n",
       "      <td>4~8</td>\n",
       "      <td>1~3</td>\n",
       "      <td>1</td>\n",
       "      <td>1</td>\n",
       "      <td>0</td>\n",
       "      <td>0</td>\n",
       "      <td>1</td>\n",
       "      <td>0</td>\n",
       "    </tr>\n",
       "    <tr>\n",
       "      <th>4</th>\n",
       "      <td>No Urgent Place</td>\n",
       "      <td>Friend(s)</td>\n",
       "      <td>Sunny</td>\n",
       "      <td>80</td>\n",
       "      <td>2PM</td>\n",
       "      <td>Coffee House</td>\n",
       "      <td>1d</td>\n",
       "      <td>Female</td>\n",
       "      <td>21</td>\n",
       "      <td>Unmarried partner</td>\n",
       "      <td>...</td>\n",
       "      <td>never</td>\n",
       "      <td>NaN</td>\n",
       "      <td>4~8</td>\n",
       "      <td>1~3</td>\n",
       "      <td>1</td>\n",
       "      <td>1</td>\n",
       "      <td>0</td>\n",
       "      <td>0</td>\n",
       "      <td>1</td>\n",
       "      <td>0</td>\n",
       "    </tr>\n",
       "  </tbody>\n",
       "</table>\n",
       "<p>5 rows × 26 columns</p>\n",
       "</div>"
      ],
      "text/plain": [
       "       destination  passanger weather  temperature  time  \\\n",
       "0  No Urgent Place      Alone   Sunny           55   2PM   \n",
       "1  No Urgent Place  Friend(s)   Sunny           80  10AM   \n",
       "2  No Urgent Place  Friend(s)   Sunny           80  10AM   \n",
       "3  No Urgent Place  Friend(s)   Sunny           80   2PM   \n",
       "4  No Urgent Place  Friend(s)   Sunny           80   2PM   \n",
       "\n",
       "                  coupon expiration  gender age      maritalStatus  ...  \\\n",
       "0        Restaurant(<20)         1d  Female  21  Unmarried partner  ...   \n",
       "1           Coffee House         2h  Female  21  Unmarried partner  ...   \n",
       "2  Carry out & Take away         2h  Female  21  Unmarried partner  ...   \n",
       "3           Coffee House         2h  Female  21  Unmarried partner  ...   \n",
       "4           Coffee House         1d  Female  21  Unmarried partner  ...   \n",
       "\n",
       "   CoffeeHouse CarryAway RestaurantLessThan20 Restaurant20To50  \\\n",
       "0        never       NaN                  4~8              1~3   \n",
       "1        never       NaN                  4~8              1~3   \n",
       "2        never       NaN                  4~8              1~3   \n",
       "3        never       NaN                  4~8              1~3   \n",
       "4        never       NaN                  4~8              1~3   \n",
       "\n",
       "  toCoupon_GEQ5min toCoupon_GEQ15min toCoupon_GEQ25min direction_same  \\\n",
       "0                1                 0                 0              0   \n",
       "1                1                 0                 0              0   \n",
       "2                1                 1                 0              0   \n",
       "3                1                 1                 0              0   \n",
       "4                1                 1                 0              0   \n",
       "\n",
       "  direction_opp  Y  \n",
       "0             1  1  \n",
       "1             1  0  \n",
       "2             1  1  \n",
       "3             1  0  \n",
       "4             1  0  \n",
       "\n",
       "[5 rows x 26 columns]"
      ]
     },
     "execution_count": 3,
     "metadata": {},
     "output_type": "execute_result"
    }
   ],
   "source": [
    "df = pd.read_csv('in-vehicle-coupon-recommendation.csv')\n",
    "df.head()\n"
   ]
  },
  {
   "cell_type": "code",
   "execution_count": 4,
   "id": "791c6670",
   "metadata": {},
   "outputs": [
    {
     "data": {
      "text/plain": [
       "destination              3\n",
       "passanger                4\n",
       "weather                  3\n",
       "temperature              3\n",
       "time                     5\n",
       "coupon                   5\n",
       "expiration               2\n",
       "gender                   2\n",
       "age                      8\n",
       "maritalStatus            5\n",
       "has_children             2\n",
       "education                6\n",
       "occupation              25\n",
       "income                   9\n",
       "car                      5\n",
       "Bar                      5\n",
       "CoffeeHouse              5\n",
       "CarryAway                5\n",
       "RestaurantLessThan20     5\n",
       "Restaurant20To50         5\n",
       "toCoupon_GEQ5min         1\n",
       "toCoupon_GEQ15min        2\n",
       "toCoupon_GEQ25min        2\n",
       "direction_same           2\n",
       "direction_opp            2\n",
       "Y                        2\n",
       "dtype: int64"
      ]
     },
     "execution_count": 4,
     "metadata": {},
     "output_type": "execute_result"
    }
   ],
   "source": [
    "df.nunique()"
   ]
  },
  {
   "cell_type": "code",
   "execution_count": 5,
   "id": "1c93f22a",
   "metadata": {},
   "outputs": [
    {
     "data": {
      "text/plain": [
       "1    0.568433\n",
       "0    0.431567\n",
       "Name: Y, dtype: float64"
      ]
     },
     "execution_count": 5,
     "metadata": {},
     "output_type": "execute_result"
    }
   ],
   "source": [
    "df.skew()\n",
    "df.isnull().sum().sort_values(ascending=False) * 100 / len(df)\n",
    "df['Y'].value_counts() / len(df)"
   ]
  },
  {
   "cell_type": "markdown",
   "id": "ba450885",
   "metadata": {},
   "source": [
    "# dividing independent and dependent variable"
   ]
  },
  {
   "cell_type": "code",
   "execution_count": 6,
   "id": "04e66f45",
   "metadata": {},
   "outputs": [
    {
     "name": "stdout",
     "output_type": "stream",
     "text": [
      "Index(['destination', 'passanger', 'weather', 'temperature', 'time', 'coupon',\n",
      "       'expiration', 'gender', 'age', 'maritalStatus', 'has_children',\n",
      "       'education', 'occupation', 'income', 'car', 'Bar', 'CoffeeHouse',\n",
      "       'CarryAway', 'RestaurantLessThan20', 'Restaurant20To50',\n",
      "       'toCoupon_GEQ5min', 'toCoupon_GEQ15min', 'toCoupon_GEQ25min',\n",
      "       'direction_same', 'direction_opp'],\n",
      "      dtype='object')\n",
      "(12684, 25) (12684,)\n"
     ]
    }
   ],
   "source": [
    "df.duplicated().sum()\n",
    "df.duplicated().sum()\n",
    "X, Y = df.iloc[:, :-1], df.iloc[:, -1]\n",
    "print(X.columns)\n",
    "print(X.shape, Y.shape)\n"
   ]
  },
  {
   "cell_type": "markdown",
   "id": "66f88c0a",
   "metadata": {},
   "source": [
    "# Classifying independent Variable Into Buckets"
   ]
  },
  {
   "cell_type": "code",
   "execution_count": 7,
   "id": "12599fc9",
   "metadata": {},
   "outputs": [],
   "source": [
    "drop_attrs = ['toCoupon_GEQ5min', 'direction_opp']\n",
    "binary_attrs = ['gender', 'has_children', 'direction_same']\n",
    "frequency_attrs = ['Bar', 'CoffeeHouse', 'CarryAway','RestaurantLessThan20', 'Restaurant20To50']\n",
    "ordinal_attrs = ['temperature', 'time', 'expiration', 'age', 'education', 'income', 'toCoupon']\n",
    "nominal_attrs = ['car','destination', 'passanger', 'weather', 'coupon', 'maritalStatus', 'occupation']"
   ]
  },
  {
   "cell_type": "markdown",
   "id": "3b8ad241",
   "metadata": {},
   "source": [
    "# Proccessing Binary attribute"
   ]
  },
  {
   "cell_type": "code",
   "execution_count": 8,
   "id": "bcfb9b0c",
   "metadata": {},
   "outputs": [],
   "source": [
    "X = X.drop(columns='toCoupon_GEQ5min')\n",
    "gender_encoder = LabelEncoder()\n",
    "X['gender'] = gender_encoder.fit_transform(X['gender'])\n",
    "X_binary = X[binary_attrs]"
   ]
  },
  {
   "cell_type": "code",
   "execution_count": 9,
   "id": "134716af",
   "metadata": {
    "scrolled": true
   },
   "outputs": [
    {
     "name": "stdout",
     "output_type": "stream",
     "text": [
      "<class 'pandas.core.frame.DataFrame'>\n",
      "RangeIndex: 12684 entries, 0 to 12683\n",
      "Data columns (total 3 columns):\n",
      " #   Column          Non-Null Count  Dtype\n",
      "---  ------          --------------  -----\n",
      " 0   gender          12684 non-null  int32\n",
      " 1   has_children    12684 non-null  int64\n",
      " 2   direction_same  12684 non-null  int64\n",
      "dtypes: int32(1), int64(2)\n",
      "memory usage: 247.9 KB\n",
      "None\n"
     ]
    }
   ],
   "source": [
    "print(X_binary.info())\n"
   ]
  },
  {
   "cell_type": "markdown",
   "id": "a9dfd91e",
   "metadata": {},
   "source": [
    "# Processing Categorical Attribute"
   ]
  },
  {
   "cell_type": "code",
   "execution_count": 10,
   "id": "f3a44360",
   "metadata": {},
   "outputs": [],
   "source": [
    "income_order = ['Less than $12500', '$12500 - $24999', \n",
    "                '$25000 - $37499', '$37500 - $49999', \n",
    "                '$50000 - $62499', '$62500 - $74999', \n",
    "                '$75000 - $87499', '$87500 - $99999', \n",
    "                '$100000 or More']\n",
    "edu_order = ['Some High School', 'High School Graduate', \n",
    "             'Some college - no degree', 'Associates degree', \n",
    "             'Bachelors degree', \n",
    "             'Graduate degree (Masters or Doctorate)']\n",
    "age_order = ['below21', '21', '26', '31', '36', '41', '46', '50plus']\n",
    "time_order = ['7AM', '10AM', '2PM', '6PM', '10PM']\n",
    "expiration_order = ['2h', '1d']"
   ]
  },
  {
   "cell_type": "code",
   "execution_count": 11,
   "id": "f23629bc",
   "metadata": {},
   "outputs": [],
   "source": [
    "def reorder_encoding(attr, order):\n",
    "    X[attr] = X[attr].astype('category')\n",
    "    X[attr] = X[attr].cat.reorder_categories(\n",
    "        new_categories=order,\n",
    "        ordered=True\n",
    "    )\n",
    "\n",
    "    return pd.Series(X[attr].cat.codes, name=attr)\n",
    "\n",
    "\n",
    "X_income = reorder_encoding('income', income_order)\n",
    "X_edu = reorder_encoding('education', edu_order)\n",
    "X_age = reorder_encoding('age', age_order)\n",
    "X_time = reorder_encoding('time', time_order)\n",
    "X_expiration = reorder_encoding('expiration', expiration_order)"
   ]
  },
  {
   "cell_type": "markdown",
   "id": "fbbcab5f",
   "metadata": {},
   "source": [
    "# Processing Frequency Attribute"
   ]
  },
  {
   "cell_type": "code",
   "execution_count": 12,
   "id": "ed07622f",
   "metadata": {},
   "outputs": [],
   "source": [
    "freq_order = {\n",
    "    'never': 0, \n",
    "    'less1': 1,\n",
    "    '1~3': 2, \n",
    "    '4~8': 3, \n",
    "    'gt8': 4\n",
    "}\n",
    "\n",
    "for col in frequency_attrs:\n",
    "    X[col] = X[col].map(freq_order, na_action='ignore')"
   ]
  },
  {
   "cell_type": "code",
   "execution_count": 13,
   "id": "595c660b",
   "metadata": {},
   "outputs": [],
   "source": [
    "to_coupon = X[['toCoupon_GEQ15min', 'toCoupon_GEQ25min']].to_numpy()\n",
    "t = np.sum(to_coupon, axis=1)\n",
    "X_toCoupon = pd.Series(\n",
    "    data=np.sum(to_coupon, axis=1),\n",
    "    name='toCoupon'\n",
    ")"
   ]
  },
  {
   "cell_type": "markdown",
   "id": "ec18733c",
   "metadata": {},
   "source": [
    "# Processing Nominal Attribute"
   ]
  },
  {
   "cell_type": "code",
   "execution_count": 14,
   "id": "47e6a2c1",
   "metadata": {
    "scrolled": true
   },
   "outputs": [
    {
     "name": "stdout",
     "output_type": "stream",
     "text": [
      "(12684, 3)\n",
      "(12684,)\n",
      "(12684,)\n",
      "(12684,)\n",
      "(12684,)\n",
      "(12684,)\n",
      "(12684, 5)\n",
      "(12684,)\n",
      "(12684, 50)\n",
      "(12684,)\n"
     ]
    }
   ],
   "source": [
    "X_nominal = pd.get_dummies(X[nominal_attrs])\n",
    "for t in [X_binary, X_income, X_edu, X_age, X_time, X_expiration,\n",
    "     X[frequency_attrs], X_toCoupon, X_nominal, Y]:\n",
    "    print(t.shape)"
   ]
  },
  {
   "cell_type": "markdown",
   "id": "f6b91690",
   "metadata": {},
   "source": [
    "# Merging all The attribute"
   ]
  },
  {
   "cell_type": "code",
   "execution_count": 15,
   "id": "ad3b0b4b",
   "metadata": {},
   "outputs": [
    {
     "name": "stdout",
     "output_type": "stream",
     "text": [
      "(12684, 65)\n"
     ]
    }
   ],
   "source": [
    "onehot_df = pd.concat(\n",
    "    [X_binary, \n",
    "     X_income, \n",
    "     X_edu, \n",
    "     X_age, \n",
    "     X_time, \n",
    "     X_expiration,\n",
    "     X[frequency_attrs], \n",
    "     X_toCoupon, \n",
    "     X_nominal, \n",
    "     Y],\n",
    "    axis=1\n",
    ")\n",
    "print(onehot_df.shape)"
   ]
  },
  {
   "cell_type": "markdown",
   "id": "60fb0029",
   "metadata": {},
   "source": [
    "# Getting Processed File"
   ]
  },
  {
   "cell_type": "code",
   "execution_count": 16,
   "id": "e96bf69d",
   "metadata": {},
   "outputs": [],
   "source": [
    "onehot_df.duplicated().sum()\n",
    "onehot_df.drop_duplicates(keep='first', inplace=True)\n",
    "onehot_df.to_csv('preprocessed.csv', index=False)"
   ]
  },
  {
   "cell_type": "code",
   "execution_count": null,
   "id": "200e6ba9",
   "metadata": {},
   "outputs": [],
   "source": []
  }
 ],
 "metadata": {
  "kernelspec": {
   "display_name": "Python 3",
   "language": "python",
   "name": "python3"
  },
  "language_info": {
   "codemirror_mode": {
    "name": "ipython",
    "version": 3
   },
   "file_extension": ".py",
   "mimetype": "text/x-python",
   "name": "python",
   "nbconvert_exporter": "python",
   "pygments_lexer": "ipython3",
   "version": "3.8.8"
  }
 },
 "nbformat": 4,
 "nbformat_minor": 5
}
